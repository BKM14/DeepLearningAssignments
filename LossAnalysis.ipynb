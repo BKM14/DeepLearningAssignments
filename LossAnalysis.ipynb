{
  "cells": [
    {
      "cell_type": "code",
      "execution_count": 22,
      "metadata": {
        "id": "AaDC8rgdtcRE"
      },
      "outputs": [],
      "source": [
        "import tensorflow as tf\n",
        "from tensorflow.keras import models, layers, optimizers, backend\n",
        "from tensorflow.keras.layers import Activation\n",
        "import numpy as np\n",
        "import matplotlib.pyplot as plt"
      ]
    },
    {
      "cell_type": "code",
      "execution_count": 23,
      "metadata": {
        "id": "K16jYgdZtgum"
      },
      "outputs": [],
      "source": [
        "def create_data():\n",
        "    X = np.random.randn(1000, 10)\n",
        "    y = np.random.randn(1000, 1)\n",
        "    return X, y"
      ]
    },
    {
      "cell_type": "code",
      "execution_count": 24,
      "metadata": {
        "id": "nsuW38DkbARq"
      },
      "outputs": [],
      "source": [
        "def custom_activation_function(x): # tanh activation function. This is a modification.\n",
        "  return (tf.exp(x) - tf.exp(-x))/(tf.exp(x) + tf.exp(-x))"
      ]
    },
    {
      "cell_type": "code",
      "execution_count": 25,
      "metadata": {
        "id": "71r3b77HtkRT"
      },
      "outputs": [],
      "source": [
        "def create_model():\n",
        "    model = models.Sequential([\n",
        "        layers.Dense(50, activation=Activation(custom_activation_function), input_shape=(10,)),\n",
        "        layers.Dense(20, activation=Activation(custom_activation_function)),\n",
        "        layers.Dense(1)\n",
        "    ])\n",
        "\n",
        "    return model"
      ]
    },
    {
      "cell_type": "code",
      "execution_count": 26,
      "metadata": {
        "id": "2Q_1g0gWtmy6"
      },
      "outputs": [],
      "source": [
        "def train_model_with_history(model, optimizer, X, y, batch_size, epochs, optimizer_name):\n",
        "  model.compile(optimizer=optimizer, loss='mean_squared_error')\n",
        "  history = []\n",
        "\n",
        "  for epoch in range(epochs):\n",
        "    hist = model.fit(X, y, batch_size=batch_size, epochs=1, verbose=0)\n",
        "    loss = hist.history['loss'][0]\n",
        "    history.append(loss)\n",
        "    print(f\"Epoch {epoch + 1}/{epochs} - {optimizer_name} Loss:{loss:.4f}\")\n",
        "\n",
        "  return history\n"
      ]
    },
    {
      "cell_type": "code",
      "execution_count": 27,
      "metadata": {
        "id": "TmyPy7Gnvf8y"
      },
      "outputs": [],
      "source": [
        "X, y = create_data()\n",
        "model_sgd = create_model()\n",
        "model_adam = create_model()"
      ]
    },
    {
      "cell_type": "code",
      "execution_count": 28,
      "metadata": {
        "id": "kvmaXcHuwmo6"
      },
      "outputs": [],
      "source": [
        "optimizer_sgd = optimizers.SGD(learning_rate = 0.01)\n",
        "optimizer_adam = optimizers.Adam(learning_rate = 0.001)\n",
        "\n",
        "epochs = 50\n",
        "batch_size = 32"
      ]
    },
    {
      "cell_type": "code",
      "execution_count": 29,
      "metadata": {
        "colab": {
          "base_uri": "https://localhost:8080/"
        },
        "id": "tui2v0bpxW7J",
        "outputId": "43695488-551c-4508-a9a8-daa0d828cc23"
      },
      "outputs": [
        {
          "name": "stdout",
          "output_type": "stream",
          "text": [
            "\n",
            "Training with SGD optimizer:\n",
            "Epoch 1/50 - SGD Loss:1.1509\n",
            "Epoch 2/50 - SGD Loss:1.0469\n",
            "Epoch 3/50 - SGD Loss:1.0359\n",
            "Epoch 4/50 - SGD Loss:1.0359\n",
            "Epoch 5/50 - SGD Loss:1.0297\n",
            "Epoch 6/50 - SGD Loss:1.0292\n",
            "Epoch 7/50 - SGD Loss:1.0249\n",
            "Epoch 8/50 - SGD Loss:1.0237\n",
            "Epoch 9/50 - SGD Loss:1.0228\n",
            "Epoch 10/50 - SGD Loss:1.0223\n",
            "Epoch 11/50 - SGD Loss:1.0183\n",
            "Epoch 12/50 - SGD Loss:1.0151\n",
            "Epoch 13/50 - SGD Loss:1.0148\n",
            "Epoch 14/50 - SGD Loss:1.0122\n",
            "Epoch 15/50 - SGD Loss:1.0073\n",
            "Epoch 16/50 - SGD Loss:1.0082\n",
            "Epoch 17/50 - SGD Loss:1.0057\n",
            "Epoch 18/50 - SGD Loss:1.0041\n",
            "Epoch 19/50 - SGD Loss:1.0035\n",
            "Epoch 20/50 - SGD Loss:1.0008\n",
            "Epoch 21/50 - SGD Loss:1.0007\n",
            "Epoch 22/50 - SGD Loss:0.9955\n",
            "Epoch 23/50 - SGD Loss:0.9938\n",
            "Epoch 24/50 - SGD Loss:0.9918\n",
            "Epoch 25/50 - SGD Loss:0.9915\n",
            "Epoch 26/50 - SGD Loss:0.9855\n",
            "Epoch 27/50 - SGD Loss:0.9849\n",
            "Epoch 28/50 - SGD Loss:0.9847\n",
            "Epoch 29/50 - SGD Loss:0.9824\n",
            "Epoch 30/50 - SGD Loss:0.9784\n",
            "Epoch 31/50 - SGD Loss:0.9758\n",
            "Epoch 32/50 - SGD Loss:0.9792\n",
            "Epoch 33/50 - SGD Loss:0.9736\n",
            "Epoch 34/50 - SGD Loss:0.9707\n",
            "Epoch 35/50 - SGD Loss:0.9685\n",
            "Epoch 36/50 - SGD Loss:0.9679\n",
            "Epoch 37/50 - SGD Loss:0.9599\n",
            "Epoch 38/50 - SGD Loss:0.9589\n",
            "Epoch 39/50 - SGD Loss:0.9568\n",
            "Epoch 40/50 - SGD Loss:0.9563\n",
            "Epoch 41/50 - SGD Loss:0.9578\n",
            "Epoch 42/50 - SGD Loss:0.9496\n",
            "Epoch 43/50 - SGD Loss:0.9496\n",
            "Epoch 44/50 - SGD Loss:0.9461\n",
            "Epoch 45/50 - SGD Loss:0.9458\n",
            "Epoch 46/50 - SGD Loss:0.9420\n",
            "Epoch 47/50 - SGD Loss:0.9400\n",
            "Epoch 48/50 - SGD Loss:0.9356\n",
            "Epoch 49/50 - SGD Loss:0.9307\n",
            "Epoch 50/50 - SGD Loss:0.9294\n",
            "\n",
            "Training with Adam optimizer:\n",
            "Epoch 1/50 - Adam Loss:1.2091\n",
            "Epoch 2/50 - Adam Loss:1.0637\n",
            "Epoch 3/50 - Adam Loss:1.0460\n",
            "Epoch 4/50 - Adam Loss:1.0386\n",
            "Epoch 5/50 - Adam Loss:1.0341\n",
            "Epoch 6/50 - Adam Loss:1.0266\n",
            "Epoch 7/50 - Adam Loss:1.0187\n",
            "Epoch 8/50 - Adam Loss:1.0177\n",
            "Epoch 9/50 - Adam Loss:1.0005\n",
            "Epoch 10/50 - Adam Loss:0.9943\n",
            "Epoch 11/50 - Adam Loss:0.9929\n",
            "Epoch 12/50 - Adam Loss:0.9839\n",
            "Epoch 13/50 - Adam Loss:0.9822\n",
            "Epoch 14/50 - Adam Loss:0.9848\n",
            "Epoch 15/50 - Adam Loss:0.9716\n",
            "Epoch 16/50 - Adam Loss:0.9612\n",
            "Epoch 17/50 - Adam Loss:0.9491\n",
            "Epoch 18/50 - Adam Loss:0.9472\n",
            "Epoch 19/50 - Adam Loss:0.9480\n",
            "Epoch 20/50 - Adam Loss:0.9339\n",
            "Epoch 21/50 - Adam Loss:0.9265\n",
            "Epoch 22/50 - Adam Loss:0.9326\n",
            "Epoch 23/50 - Adam Loss:0.9245\n",
            "Epoch 24/50 - Adam Loss:0.9115\n",
            "Epoch 25/50 - Adam Loss:0.9155\n",
            "Epoch 26/50 - Adam Loss:0.9098\n",
            "Epoch 27/50 - Adam Loss:0.8958\n",
            "Epoch 28/50 - Adam Loss:0.8898\n",
            "Epoch 29/50 - Adam Loss:0.8860\n",
            "Epoch 30/50 - Adam Loss:0.8783\n",
            "Epoch 31/50 - Adam Loss:0.8761\n",
            "Epoch 32/50 - Adam Loss:0.8719\n",
            "Epoch 33/50 - Adam Loss:0.8657\n",
            "Epoch 34/50 - Adam Loss:0.8621\n",
            "Epoch 35/50 - Adam Loss:0.8596\n",
            "Epoch 36/50 - Adam Loss:0.8495\n",
            "Epoch 37/50 - Adam Loss:0.8492\n",
            "Epoch 38/50 - Adam Loss:0.8430\n",
            "Epoch 39/50 - Adam Loss:0.8382\n",
            "Epoch 40/50 - Adam Loss:0.8409\n",
            "Epoch 41/50 - Adam Loss:0.8363\n",
            "Epoch 42/50 - Adam Loss:0.8278\n",
            "Epoch 43/50 - Adam Loss:0.8225\n",
            "Epoch 44/50 - Adam Loss:0.8220\n",
            "Epoch 45/50 - Adam Loss:0.8197\n",
            "Epoch 46/50 - Adam Loss:0.8179\n",
            "Epoch 47/50 - Adam Loss:0.8073\n",
            "Epoch 48/50 - Adam Loss:0.8054\n",
            "Epoch 49/50 - Adam Loss:0.8055\n",
            "Epoch 50/50 - Adam Loss:0.8002\n"
          ]
        }
      ],
      "source": [
        "print(\"\\nTraining with SGD optimizer:\")\n",
        "sgd_loss = train_model_with_history(model_sgd, optimizer_sgd, X, y, batch_size, epochs, 'SGD')\n",
        "\n",
        "print(\"\\nTraining with Adam optimizer:\")\n",
        "adam_loss = train_model_with_history(model_adam, optimizer_adam, X, y, batch_size, epochs, 'Adam')"
      ]
    },
    {
      "cell_type": "code",
      "execution_count": 30,
      "metadata": {
        "colab": {
          "base_uri": "https://localhost:8080/",
          "height": 472
        },
        "id": "7LsUhpfXxxc6",
        "outputId": "4a014ef3-a2ac-4671-cc6d-ebba05b10e87"
      },
      "outputs": [
        {
          "data": {
            "image/png": "[encoded data removed]",
            "text/plain": [
              "<Figure size 640x480 with 1 Axes>"
            ]
          },
          "metadata": {},
          "output_type": "display_data"
        }
      ],
      "source": [
        "plt.plot(range(1, epochs + 1), sgd_loss, label='SGD', color='blue')\n",
        "plt.plot(range(1, epochs + 1), adam_loss, label='Adam', color='orange')\n",
        "plt.xlabel('Epochs')\n",
        "plt.ylabel('Loss')\n",
        "plt.title('SGD vs Adam optimizer: Loss Comparison')\n",
        "plt.legend()\n",
        "plt.grid(True)\n",
        "plt.show()"
      ]
    }
  ],
  "metadata": {
    "colab": {
      "provenance": []
    },
    "kernelspec": {
      "display_name": "Python 3",
      "name": "python3"
    },
    "language_info": {
      "name": "python"
    }
  },
  "nbformat": 4,
  "nbformat_minor": 0
}
