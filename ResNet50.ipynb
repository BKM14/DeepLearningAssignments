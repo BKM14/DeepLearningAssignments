{
 "cells": [
  {
   "cell_type": "code",
   "execution_count": null,
   "metadata": {
    "id": "w_gpdMYEwysS"
   },
   "outputs": [],
   "source": [
    "# !pip install google-colab-patches"
   ]
  },
  {
   "cell_type": "code",
   "execution_count": null,
   "metadata": {
    "id": "RvbIAjh0xGNT"
   },
   "outputs": [],
   "source": [
    "import torch\n",
    "import torchvision\n",
    "from torchvision.transforms import functional as F\n",
    "import cv2\n",
    "import numpy as np\n",
    "import matplotlib.pyplot as plt\n",
    "# from google.colab.patches import cv2_imshow"
   ]
  },
  {
   "cell_type": "code",
   "execution_count": null,
   "metadata": {
    "colab": {
     "base_uri": "https://localhost:8080/"
    },
    "id": "tiAY5Rlfxz3t",
    "outputId": "52ecf7d2-fdb8-4969-b156-1f5c2c232bb9"
   },
   "outputs": [],
   "source": [
    "model = torchvision.models.detection.fasterrcnn_mobilenet_v3_large_fpn(pretrained=True) # lighter model\n",
    "model.eval()"
   ]
  },
  {
   "cell_type": "code",
   "execution_count": null,
   "metadata": {
    "colab": {
     "base_uri": "https://localhost:8080/"
    },
    "id": "I-ZxaIVgybpR",
    "outputId": "61492684-1037-4e8e-84e2-2d823e69b9cd"
   },
   "outputs": [],
   "source": [
    "COCO_INSTANCE_CATEGORY_NAMES = [\n",
    "    \"__background__\", \"person\", \"bicycle\", \"car\", \"motorcycle\", \"airplane\", \"bus\", \"train\", \"truck\", \"boat\",\n",
    "    \"traffic light\", \"fire hydrant\", \"stop sign\", \"parking meter\", \"bench\", \"bird\", \"cat\", \"dog\",\n",
    "    \"horse\", \"sheep\", \"cow\", \"elephant\", \"bear\", \"zebra\", \"giraffe\", \"hat\", \"backpack\", \"umbrella\",\n",
    "    \"handbag\", \"tie\", \"suitcase\", \"frisbee\", \"skis\", \"snowboard\", \"sports ball\", \"kite\", \"baseball bat\",\n",
    "    \"baseball glove\", \"skateboard\", \"surfboard\", \"tennis racket\", \"bottle\", \"wine glass\", \"cup\",\n",
    "    \"fork\", \"knife\", \"spoon\", \"bowl\", \"banana\", \"apple\", \"sandwich\", \"orange\", \"broccoli\", \"carrot\",\n",
    "    \"hot dog\", \"pizza\", \"donut\", \"cake\", \"chair\", \"couch\", \"potted plant\", \"bed\", \"dining table\",\n",
    "    \"toilet\", \"tv\", \"laptop\", \"mouse\", \"remote\", \"keyboard\", \"cell phone\", \"microwave\", \"oven\", \"toaster\",\n",
    "    \"sink\", \"refrigerator\", \"book\", \"clock\", \"vase\", \"scissors\", \"teddy bear\", \"hair drier\", \"toothbrush\"\n",
    "]\n",
    "\n",
    "len(COCO_INSTANCE_CATEGORY_NAMES)"
   ]
  },
  {
   "cell_type": "code",
   "execution_count": null,
   "metadata": {
    "id": "tjU9JiAJzeuJ"
   },
   "outputs": [],
   "source": [
    "def detect_objects(image_path, confidence_threshold=0.5):\n",
    "  image = cv2.imread(image_path)\n",
    "\n",
    "  if image is None:\n",
    "    print(f\"Error: Could not load image from {image_path}. Please check the file path and ensure the image exists.\")\n",
    "    return None\n",
    "\n",
    "  original_image = image.copy()\n",
    "  image_tensor = F.to_tensor(image)\n",
    "\n",
    "  with torch.no_grad():\n",
    "    predictions = model([image_tensor])\n",
    "\n",
    "  boxes = predictions[0]['boxes'].numpy()\n",
    "  labels = predictions[0]['labels'].numpy()\n",
    "  scores = predictions[0]['scores'].numpy()\n",
    "\n",
    "  for i, box in enumerate(boxes):\n",
    "    if scores[i] >= confidence_threshold:\n",
    "      label = COCO_INSTANCE_CATEGORY_NAMES[labels[i]]\n",
    "      score = scores[i]\n",
    "\n",
    "      start_point = (int(box[0]), int(box[1]))\n",
    "      end_point = (int(box[2]), int(box[3]))\n",
    "      cv2.rectangle(original_image, start_point, end_point, (0, 255, 0), 2)\n",
    "      cv2.putText(original_image, f\"{label}: {score:.2f}\", start_point, cv2.FONT_HERSHEY_SIMPLEX, 0.5, (255, 0, 0), 2)\n",
    "\n",
    "  return original_image\n"
   ]
  },
  {
   "cell_type": "code",
   "execution_count": null,
   "metadata": {},
   "outputs": [],
   "source": [
    "def show_image(image):\n",
    "    plt.imshow(cv2.cvtColor(image, cv2.COLOR_BGR2RGB))\n",
    "    plt.axis('off')\n",
    "    plt.show()"
   ]
  },
  {
   "cell_type": "code",
   "execution_count": null,
   "metadata": {
    "colab": {
     "base_uri": "https://localhost:8080/",
     "height": 817
    },
    "id": "rjwUidPB9AZu",
    "outputId": "f9c03960-062f-44c1-94a8-da9c79f0500b"
   },
   "outputs": [],
   "source": [
    "if __name__ == \"__main__\":\n",
    "  IMAGE_PATH = \"./photo.jpeg\"\n",
    "  show_image(detect_objects(IMAGE_PATH))"
   ]
  }
 ],
 "metadata": {
  "colab": {
   "provenance": []
  },
  "kernelspec": {
   "display_name": "base",
   "language": "python",
   "name": "python3"
  },
  "language_info": {
   "codemirror_mode": {
    "name": "ipython",
    "version": 3
   },
   "file_extension": ".py",
   "mimetype": "text/x-python",
   "name": "python",
   "nbconvert_exporter": "python",
   "pygments_lexer": "ipython3",
   "version": "3.12.7"
  }
 },
 "nbformat": 4,
 "nbformat_minor": 0
}
